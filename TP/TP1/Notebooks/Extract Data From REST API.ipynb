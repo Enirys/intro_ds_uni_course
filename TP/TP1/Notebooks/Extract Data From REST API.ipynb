{
 "cells": [
  {
   "cell_type": "markdown",
   "id": "530c438a",
   "metadata": {},
   "source": [
    "### Send a GET request to the API and show response"
   ]
  },
  {
   "cell_type": "code",
   "execution_count": 22,
   "id": "184b6155",
   "metadata": {},
   "outputs": [],
   "source": [
    "import requests\n",
    "import json\n",
    "import pandas as pd\n",
    "\n",
    "url = \"https://hotels4.p.rapidapi.com/locations/v2/search\"\n",
    "\n",
    "querystring = {\"query\":\"new york\",\"locale\":\"en_US\",\"currency\":\"USD\"}\n",
    "\n",
    "headers = {\n",
    "\t\"X-RapidAPI-Key\": \"b822883f03msh43fea7f16822f9dp1df1c2jsn2db4f917ba04\",\n",
    "\t\"X-RapidAPI-Host\": \"hotels4.p.rapidapi.com\"\n",
    "}\n",
    "\n",
    "response = requests.request(\"GET\", url, headers=headers, params=querystring)\n",
    "print(response.text)\n"
   ]
  },
  {
   "cell_type": "markdown",
   "id": "4ccf651d",
   "metadata": {},
   "source": [
    "### Create a json file and copy the response body"
   ]
  },
  {
   "cell_type": "code",
   "execution_count": null,
   "id": "8b395ba5",
   "metadata": {},
   "outputs": [],
   "source": [
    "jf = open('jf.json', 'w')\n",
    "jf.write(response.text)\n",
    "jf.close()"
   ]
  },
  {
   "cell_type": "markdown",
   "id": "6e1d02e2",
   "metadata": {},
   "source": [
    "### Load the json file and show its content"
   ]
  },
  {
   "cell_type": "code",
   "execution_count": 9,
   "id": "431092b5",
   "metadata": {},
   "outputs": [
    {
     "name": "stdout",
     "output_type": "stream",
     "text": [
      "{'term': 'new york', 'moresuggestions': 10, 'autoSuggestInstance': None, 'trackingID': 'b10d8cf7d4584c3eb5d39cf4989f8434', 'misspellingfallback': False, 'suggestions': [{'group': 'CITY_GROUP', 'entities': [{'geoId': '2621', 'destinationId': '1506246', 'landmarkCityDestinationId': None, 'type': 'CITY', 'redirectPage': 'DEFAULT_PAGE', 'latitude': 40.712843, 'longitude': -74.005966, 'searchDetail': None, 'caption': \"<span class='highlighted'>New</span> <span class='highlighted'>York</span>, New York, United States of America\", 'name': 'New York'}, {'geoId': '129440', 'destinationId': '1535616', 'landmarkCityDestinationId': None, 'type': 'NEIGHBORHOOD', 'redirectPage': 'DEFAULT_PAGE', 'latitude': 40.783062, 'longitude': -73.971252, 'searchDetail': None, 'caption': \"Manhattan, <span class='highlighted'>New</span> <span class='highlighted'>York</span>, New York, United States of America\", 'name': 'Manhattan'}, {'geoId': '6203489', 'destinationId': '1737998', 'landmarkCityDestinationId': None, 'type': 'NEIGHBORHOOD', 'redirectPage': 'DEFAULT_PAGE', 'latitude': 40.7520567817666, 'longitude': -73.9874924492131, 'searchDetail': None, 'caption': \"Midtown, <span class='highlighted'>New</span> <span class='highlighted'>York</span>, New York, United States of America\", 'name': 'Midtown'}, {'geoId': '6234083', 'destinationId': '11108016', 'landmarkCityDestinationId': None, 'type': 'REGION', 'redirectPage': 'DEFAULT_PAGE', 'latitude': 43.04737748563339, 'longitude': -75.65465713202158, 'searchDetail': None, 'caption': \"Upstate <span class='highlighted'>New</span> <span class='highlighted'>York</span>, New York, United States of America\", 'name': 'Upstate New York'}, {'geoId': '602887', 'destinationId': '1489365', 'landmarkCityDestinationId': None, 'type': 'REGION', 'redirectPage': 'DEFAULT_PAGE', 'latitude': 40.789143, 'longitude': -73.134964, 'searchDetail': None, 'caption': \"Long Island, <span class='highlighted'>New</span> <span class='highlighted'>York</span>, United States of America\", 'name': 'Long Island'}]}, {'group': 'HOTEL_GROUP', 'entities': [{'geoId': '41080', 'destinationId': '123169', 'landmarkCityDestinationId': None, 'type': 'HOTEL', 'redirectPage': 'DEFAULT_PAGE', 'latitude': 36.102865, 'longitude': -115.17352, 'searchDetail': None, 'caption': \"<span class='highlighted'>New</span> <span class='highlighted'>York</span> New York Hotel & Casino, Las Vegas, Nevada, United States of America\", 'name': 'New York New York Hotel & Casino'}, {'geoId': '15838', 'destinationId': '115902', 'landmarkCityDestinationId': None, 'type': 'HOTEL', 'redirectPage': 'DEFAULT_PAGE', 'latitude': 40.758234, 'longitude': -73.985457, 'searchDetail': None, 'caption': \"<span class='highlighted'>New</span> <span class='highlighted'>York</span> Marriott Marquis, New York, New York, United States of America\", 'name': 'New York Marriott Marquis'}, {'geoId': '19768', 'destinationId': '112922', 'landmarkCityDestinationId': None, 'type': 'HOTEL', 'redirectPage': 'DEFAULT_PAGE', 'latitude': 40.76225, 'longitude': -73.97874, 'searchDetail': None, 'caption': \"<span class='highlighted'>New</span> <span class='highlighted'>York</span> Hilton Midtown, New York, New York, United States of America\", 'name': 'New York Hilton Midtown'}, {'geoId': '2896', 'destinationId': '106443', 'landmarkCityDestinationId': None, 'type': 'HOTEL', 'redirectPage': 'DEFAULT_PAGE', 'latitude': 40.768417, 'longitude': -73.867602, 'searchDetail': None, 'caption': \"<span class='highlighted'>New</span> <span class='highlighted'>York</span> LaGuardia Airport Marriott, East Elmhurst, New York, United States of America\", 'name': 'New York LaGuardia Airport Marriott'}]}, {'group': 'LANDMARK_GROUP', 'entities': [{'geoId': '6291778', 'destinationId': '124', 'landmarkCityDestinationId': '1506246', 'type': 'LANDMARK', 'redirectPage': 'DEFAULT_PAGE', 'latitude': 40.75059, 'longitude': -73.993503, 'searchDetail': None, 'caption': \"Madison Square Garden, <span class='highlighted'>New</span> <span class='highlighted'>York</span>, New York, United States of America\", 'name': 'Madison Square Garden'}, {'geoId': '6056463', 'destinationId': '1707357', 'landmarkCityDestinationId': '1506246', 'type': 'LANDMARK', 'redirectPage': 'DEFAULT_PAGE', 'latitude': 40.78255312101171, 'longitude': -73.96547122696427, 'searchDetail': None, 'caption': \"Central Park, <span class='highlighted'>New</span> <span class='highlighted'>York</span>, New York, United States of America\", 'name': 'Central Park'}, {'geoId': '502080', 'destinationId': '1409835', 'landmarkCityDestinationId': '1506246', 'type': 'LANDMARK', 'redirectPage': 'DEFAULT_PAGE', 'latitude': 40.757410161691084, 'longitude': -73.98618346732785, 'searchDetail': None, 'caption': \"Times Square, <span class='highlighted'>New</span> <span class='highlighted'>York</span>, New York, United States of America\", 'name': 'Times Square'}]}, {'group': 'TRANSPORT_GROUP', 'entities': [{'geoId': '4933194', 'destinationId': '1662393', 'landmarkCityDestinationId': None, 'type': 'AIRPORT', 'redirectPage': 'DEFAULT_PAGE', 'latitude': 40.644166, 'longitude': -73.782548, 'searchDetail': None, 'caption': \"<span class='highlighted'>New</span> <span class='highlighted'>York</span>, NY, United States of America (JFK-John F. Kennedy Intl.)\", 'name': 'New York, NY (JFK-John F. Kennedy Intl.)'}, {'geoId': '4278092', 'destinationId': '1412655', 'landmarkCityDestinationId': None, 'type': 'AIRPORT', 'redirectPage': 'DEFAULT_PAGE', 'latitude': 40.77429, 'longitude': -73.872035, 'searchDetail': None, 'caption': \"<span class='highlighted'>New</span> <span class='highlighted'>York</span>, NY, United States of America (LGA-LaGuardia)\", 'name': 'New York, NY (LGA-LaGuardia)'}, {'geoId': '6185978', 'destinationId': '1730462', 'landmarkCityDestinationId': None, 'type': 'TRAIN_STATION', 'redirectPage': 'DEFAULT_PAGE', 'latitude': 40.75056, 'longitude': -73.994609, 'searchDetail': None, 'caption': \"Penn Station, <span class='highlighted'>New</span> <span class='highlighted'>York</span>, New York, United States of America\", 'name': 'Penn Station'}]}], 'geocodeFallback': False}\n"
     ]
    }
   ],
   "source": [
    "jf = open('jf.json', 'r')\n",
    "j = json.load(jf)\n",
    "print(j)"
   ]
  },
  {
   "cell_type": "markdown",
   "id": "663fb7bd",
   "metadata": {},
   "source": [
    "### Afficher les clés"
   ]
  },
  {
   "cell_type": "code",
   "execution_count": 13,
   "id": "3bede600",
   "metadata": {},
   "outputs": [
    {
     "name": "stdout",
     "output_type": "stream",
     "text": [
      "dict_keys(['term', 'moresuggestions', 'autoSuggestInstance', 'trackingID', 'misspellingfallback', 'suggestions', 'geocodeFallback'])\n"
     ]
    }
   ],
   "source": [
    "print(j.keys())"
   ]
  },
  {
   "cell_type": "markdown",
   "id": "d35d50d8",
   "metadata": {},
   "source": [
    "### Extraire des champ"
   ]
  },
  {
   "cell_type": "code",
   "execution_count": 17,
   "id": "ef694d76",
   "metadata": {},
   "outputs": [
    {
     "name": "stdout",
     "output_type": "stream",
     "text": [
      "[{'geoId': '2621', 'destinationId': '1506246', 'landmarkCityDestinationId': None, 'type': 'CITY', 'redirectPage': 'DEFAULT_PAGE', 'latitude': 40.712843, 'longitude': -74.005966, 'searchDetail': None, 'caption': \"<span class='highlighted'>New</span> <span class='highlighted'>York</span>, New York, United States of America\", 'name': 'New York'}, {'geoId': '129440', 'destinationId': '1535616', 'landmarkCityDestinationId': None, 'type': 'NEIGHBORHOOD', 'redirectPage': 'DEFAULT_PAGE', 'latitude': 40.783062, 'longitude': -73.971252, 'searchDetail': None, 'caption': \"Manhattan, <span class='highlighted'>New</span> <span class='highlighted'>York</span>, New York, United States of America\", 'name': 'Manhattan'}, {'geoId': '6203489', 'destinationId': '1737998', 'landmarkCityDestinationId': None, 'type': 'NEIGHBORHOOD', 'redirectPage': 'DEFAULT_PAGE', 'latitude': 40.7520567817666, 'longitude': -73.9874924492131, 'searchDetail': None, 'caption': \"Midtown, <span class='highlighted'>New</span> <span class='highlighted'>York</span>, New York, United States of America\", 'name': 'Midtown'}, {'geoId': '6234083', 'destinationId': '11108016', 'landmarkCityDestinationId': None, 'type': 'REGION', 'redirectPage': 'DEFAULT_PAGE', 'latitude': 43.04737748563339, 'longitude': -75.65465713202158, 'searchDetail': None, 'caption': \"Upstate <span class='highlighted'>New</span> <span class='highlighted'>York</span>, New York, United States of America\", 'name': 'Upstate New York'}, {'geoId': '602887', 'destinationId': '1489365', 'landmarkCityDestinationId': None, 'type': 'REGION', 'redirectPage': 'DEFAULT_PAGE', 'latitude': 40.789143, 'longitude': -73.134964, 'searchDetail': None, 'caption': \"Long Island, <span class='highlighted'>New</span> <span class='highlighted'>York</span>, United States of America\", 'name': 'Long Island'}]\n"
     ]
    }
   ],
   "source": [
    "print(j['suggestions'][0]['entities'])"
   ]
  },
  {
   "cell_type": "code",
   "execution_count": 27,
   "id": "fcf2ec8e",
   "metadata": {
    "scrolled": true
   },
   "outputs": [
    {
     "data": {
      "text/html": [
       "<div>\n",
       "<style scoped>\n",
       "    .dataframe tbody tr th:only-of-type {\n",
       "        vertical-align: middle;\n",
       "    }\n",
       "\n",
       "    .dataframe tbody tr th {\n",
       "        vertical-align: top;\n",
       "    }\n",
       "\n",
       "    .dataframe thead th {\n",
       "        text-align: right;\n",
       "    }\n",
       "</style>\n",
       "<table border=\"1\" class=\"dataframe\">\n",
       "  <thead>\n",
       "    <tr style=\"text-align: right;\">\n",
       "      <th></th>\n",
       "      <th>geoId</th>\n",
       "      <th>destinationId</th>\n",
       "      <th>landmarkCityDestinationId</th>\n",
       "      <th>type</th>\n",
       "      <th>redirectPage</th>\n",
       "      <th>latitude</th>\n",
       "      <th>longitude</th>\n",
       "      <th>searchDetail</th>\n",
       "      <th>caption</th>\n",
       "      <th>name</th>\n",
       "    </tr>\n",
       "  </thead>\n",
       "  <tbody>\n",
       "    <tr>\n",
       "      <th>0</th>\n",
       "      <td>2621</td>\n",
       "      <td>1506246</td>\n",
       "      <td>None</td>\n",
       "      <td>CITY</td>\n",
       "      <td>DEFAULT_PAGE</td>\n",
       "      <td>40.712843</td>\n",
       "      <td>-74.005966</td>\n",
       "      <td>None</td>\n",
       "      <td>&lt;span class='highlighted'&gt;New&lt;/span&gt; &lt;span cla...</td>\n",
       "      <td>New York</td>\n",
       "    </tr>\n",
       "    <tr>\n",
       "      <th>1</th>\n",
       "      <td>129440</td>\n",
       "      <td>1535616</td>\n",
       "      <td>None</td>\n",
       "      <td>NEIGHBORHOOD</td>\n",
       "      <td>DEFAULT_PAGE</td>\n",
       "      <td>40.783062</td>\n",
       "      <td>-73.971252</td>\n",
       "      <td>None</td>\n",
       "      <td>Manhattan, &lt;span class='highlighted'&gt;New&lt;/span...</td>\n",
       "      <td>Manhattan</td>\n",
       "    </tr>\n",
       "    <tr>\n",
       "      <th>2</th>\n",
       "      <td>6203489</td>\n",
       "      <td>1737998</td>\n",
       "      <td>None</td>\n",
       "      <td>NEIGHBORHOOD</td>\n",
       "      <td>DEFAULT_PAGE</td>\n",
       "      <td>40.752057</td>\n",
       "      <td>-73.987492</td>\n",
       "      <td>None</td>\n",
       "      <td>Midtown, &lt;span class='highlighted'&gt;New&lt;/span&gt; ...</td>\n",
       "      <td>Midtown</td>\n",
       "    </tr>\n",
       "    <tr>\n",
       "      <th>3</th>\n",
       "      <td>6234083</td>\n",
       "      <td>11108016</td>\n",
       "      <td>None</td>\n",
       "      <td>REGION</td>\n",
       "      <td>DEFAULT_PAGE</td>\n",
       "      <td>43.047377</td>\n",
       "      <td>-75.654657</td>\n",
       "      <td>None</td>\n",
       "      <td>Upstate &lt;span class='highlighted'&gt;New&lt;/span&gt; &lt;...</td>\n",
       "      <td>Upstate New York</td>\n",
       "    </tr>\n",
       "    <tr>\n",
       "      <th>4</th>\n",
       "      <td>602887</td>\n",
       "      <td>1489365</td>\n",
       "      <td>None</td>\n",
       "      <td>REGION</td>\n",
       "      <td>DEFAULT_PAGE</td>\n",
       "      <td>40.789143</td>\n",
       "      <td>-73.134964</td>\n",
       "      <td>None</td>\n",
       "      <td>Long Island, &lt;span class='highlighted'&gt;New&lt;/sp...</td>\n",
       "      <td>Long Island</td>\n",
       "    </tr>\n",
       "  </tbody>\n",
       "</table>\n",
       "</div>"
      ],
      "text/plain": [
       "     geoId destinationId landmarkCityDestinationId          type  \\\n",
       "0     2621       1506246                      None          CITY   \n",
       "1   129440       1535616                      None  NEIGHBORHOOD   \n",
       "2  6203489       1737998                      None  NEIGHBORHOOD   \n",
       "3  6234083      11108016                      None        REGION   \n",
       "4   602887       1489365                      None        REGION   \n",
       "\n",
       "   redirectPage   latitude  longitude searchDetail  \\\n",
       "0  DEFAULT_PAGE  40.712843 -74.005966         None   \n",
       "1  DEFAULT_PAGE  40.783062 -73.971252         None   \n",
       "2  DEFAULT_PAGE  40.752057 -73.987492         None   \n",
       "3  DEFAULT_PAGE  43.047377 -75.654657         None   \n",
       "4  DEFAULT_PAGE  40.789143 -73.134964         None   \n",
       "\n",
       "                                             caption              name  \n",
       "0  <span class='highlighted'>New</span> <span cla...          New York  \n",
       "1  Manhattan, <span class='highlighted'>New</span...         Manhattan  \n",
       "2  Midtown, <span class='highlighted'>New</span> ...           Midtown  \n",
       "3  Upstate <span class='highlighted'>New</span> <...  Upstate New York  \n",
       "4  Long Island, <span class='highlighted'>New</sp...       Long Island  "
      ]
     },
     "execution_count": 27,
     "metadata": {},
     "output_type": "execute_result"
    }
   ],
   "source": [
    "df = pd.DataFrame(j['suggestions'][0]['entities'])\n",
    "df"
   ]
  },
  {
   "cell_type": "markdown",
   "id": "84713e2c",
   "metadata": {},
   "source": [
    "### Avec la fonction pandas read_json récupérer quelques informations du résultat"
   ]
  },
  {
   "cell_type": "code",
   "execution_count": 29,
   "id": "d5153b5d",
   "metadata": {},
   "outputs": [
    {
     "data": {
      "text/html": [
       "<div>\n",
       "<style scoped>\n",
       "    .dataframe tbody tr th:only-of-type {\n",
       "        vertical-align: middle;\n",
       "    }\n",
       "\n",
       "    .dataframe tbody tr th {\n",
       "        vertical-align: top;\n",
       "    }\n",
       "\n",
       "    .dataframe thead th {\n",
       "        text-align: right;\n",
       "    }\n",
       "</style>\n",
       "<table border=\"1\" class=\"dataframe\">\n",
       "  <thead>\n",
       "    <tr style=\"text-align: right;\">\n",
       "      <th></th>\n",
       "      <th>term</th>\n",
       "      <th>moresuggestions</th>\n",
       "      <th>autoSuggestInstance</th>\n",
       "      <th>trackingID</th>\n",
       "      <th>misspellingfallback</th>\n",
       "      <th>suggestions</th>\n",
       "      <th>geocodeFallback</th>\n",
       "    </tr>\n",
       "  </thead>\n",
       "  <tbody>\n",
       "    <tr>\n",
       "      <th>0</th>\n",
       "      <td>new york</td>\n",
       "      <td>10</td>\n",
       "      <td>NaN</td>\n",
       "      <td>b10d8cf7d4584c3eb5d39cf4989f8434</td>\n",
       "      <td>False</td>\n",
       "      <td>{'group': 'CITY_GROUP', 'entities': [{'geoId':...</td>\n",
       "      <td>False</td>\n",
       "    </tr>\n",
       "    <tr>\n",
       "      <th>1</th>\n",
       "      <td>new york</td>\n",
       "      <td>10</td>\n",
       "      <td>NaN</td>\n",
       "      <td>b10d8cf7d4584c3eb5d39cf4989f8434</td>\n",
       "      <td>False</td>\n",
       "      <td>{'group': 'HOTEL_GROUP', 'entities': [{'geoId'...</td>\n",
       "      <td>False</td>\n",
       "    </tr>\n",
       "    <tr>\n",
       "      <th>2</th>\n",
       "      <td>new york</td>\n",
       "      <td>10</td>\n",
       "      <td>NaN</td>\n",
       "      <td>b10d8cf7d4584c3eb5d39cf4989f8434</td>\n",
       "      <td>False</td>\n",
       "      <td>{'group': 'LANDMARK_GROUP', 'entities': [{'geo...</td>\n",
       "      <td>False</td>\n",
       "    </tr>\n",
       "    <tr>\n",
       "      <th>3</th>\n",
       "      <td>new york</td>\n",
       "      <td>10</td>\n",
       "      <td>NaN</td>\n",
       "      <td>b10d8cf7d4584c3eb5d39cf4989f8434</td>\n",
       "      <td>False</td>\n",
       "      <td>{'group': 'TRANSPORT_GROUP', 'entities': [{'ge...</td>\n",
       "      <td>False</td>\n",
       "    </tr>\n",
       "  </tbody>\n",
       "</table>\n",
       "</div>"
      ],
      "text/plain": [
       "       term  moresuggestions  autoSuggestInstance  \\\n",
       "0  new york               10                  NaN   \n",
       "1  new york               10                  NaN   \n",
       "2  new york               10                  NaN   \n",
       "3  new york               10                  NaN   \n",
       "\n",
       "                         trackingID  misspellingfallback  \\\n",
       "0  b10d8cf7d4584c3eb5d39cf4989f8434                False   \n",
       "1  b10d8cf7d4584c3eb5d39cf4989f8434                False   \n",
       "2  b10d8cf7d4584c3eb5d39cf4989f8434                False   \n",
       "3  b10d8cf7d4584c3eb5d39cf4989f8434                False   \n",
       "\n",
       "                                         suggestions  geocodeFallback  \n",
       "0  {'group': 'CITY_GROUP', 'entities': [{'geoId':...            False  \n",
       "1  {'group': 'HOTEL_GROUP', 'entities': [{'geoId'...            False  \n",
       "2  {'group': 'LANDMARK_GROUP', 'entities': [{'geo...            False  \n",
       "3  {'group': 'TRANSPORT_GROUP', 'entities': [{'ge...            False  "
      ]
     },
     "execution_count": 29,
     "metadata": {},
     "output_type": "execute_result"
    }
   ],
   "source": [
    "df1 = pd.read_json('jf.json')\n",
    "df1"
   ]
  }
 ],
 "metadata": {
  "kernelspec": {
   "display_name": "Python 3 (ipykernel)",
   "language": "python",
   "name": "python3"
  },
  "language_info": {
   "codemirror_mode": {
    "name": "ipython",
    "version": 3
   },
   "file_extension": ".py",
   "mimetype": "text/x-python",
   "name": "python",
   "nbconvert_exporter": "python",
   "pygments_lexer": "ipython3",
   "version": "3.9.12"
  }
 },
 "nbformat": 4,
 "nbformat_minor": 5
}
