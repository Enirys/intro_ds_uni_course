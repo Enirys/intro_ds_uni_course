{
 "cells": [
  {
   "cell_type": "markdown",
   "id": "704b2a64",
   "metadata": {},
   "source": [
    "### Import sqlite and pandas, create a database and a table using a cursor"
   ]
  },
  {
   "cell_type": "code",
   "execution_count": 1,
   "id": "7219d324",
   "metadata": {},
   "outputs": [],
   "source": [
    "import sqlite3 as sq\n",
    "import pandas as pd\n",
    "con = sq.connect('enirys.db')\n",
    "cursor = con.cursor()\n",
    "cursor.execute('''CREATE TABLE S (id int primary key, name text not null, age int, adress char(50)) ''')\n",
    "con.commit()"
   ]
  },
  {
   "cell_type": "markdown",
   "id": "81d804e1",
   "metadata": {},
   "source": [
    "### Insert rows in table"
   ]
  },
  {
   "cell_type": "code",
   "execution_count": 9,
   "id": "00e15517",
   "metadata": {},
   "outputs": [],
   "source": [
    "cursor.execute(''' INSERT INTO S values (1, 'syrine', 24, 'enirys street 24')''')\n",
    "cursor.execute(''' INSERT INTO S values (2, 'tatou', 23, 'enirys street 23')''')\n",
    "cursor.execute(''' INSERT INTO S values (3, 'enirys', 22, 'enirys street 22')''')\n",
    "cursor.execute(''' INSERT INTO S values (4, 'tati', 21, 'enirys street 21')''')\n",
    "con.commit()"
   ]
  },
  {
   "cell_type": "markdown",
   "id": "b25144b2",
   "metadata": {},
   "source": [
    "### Delete rows from table"
   ]
  },
  {
   "cell_type": "code",
   "execution_count": 6,
   "id": "7605982f",
   "metadata": {},
   "outputs": [],
   "source": [
    "cursor.execute(''' DELETE from S''')\n",
    "con.commit()"
   ]
  },
  {
   "cell_type": "markdown",
   "id": "07a283b8",
   "metadata": {},
   "source": [
    "### Select rows from table"
   ]
  },
  {
   "cell_type": "code",
   "execution_count": 10,
   "id": "d484c95e",
   "metadata": {},
   "outputs": [
    {
     "data": {
      "text/plain": [
       "<sqlite3.Cursor at 0x163b63a3500>"
      ]
     },
     "execution_count": 10,
     "metadata": {},
     "output_type": "execute_result"
    }
   ],
   "source": [
    "cursor.execute('''SELECT id, name, age, adress FROM S''')"
   ]
  },
  {
   "cell_type": "markdown",
   "id": "732924cb",
   "metadata": {},
   "source": [
    "### Fetch the results"
   ]
  },
  {
   "cell_type": "code",
   "execution_count": 12,
   "id": "c7054e1d",
   "metadata": {},
   "outputs": [
    {
     "name": "stdout",
     "output_type": "stream",
     "text": [
      "[(1, 'syrine', 24, 'enirys street 24'), (2, 'tatou', 23, 'enirys street 23'), (3, 'enirys', 22, 'enirys street 22'), (4, 'tati', 21, 'enirys street 21')]\n"
     ]
    }
   ],
   "source": [
    "resultat = cursor.fetchall()\n",
    "print(resultat)"
   ]
  },
  {
   "cell_type": "markdown",
   "id": "a14664b4",
   "metadata": {},
   "source": [
    "### Show results with a for loop"
   ]
  },
  {
   "cell_type": "code",
   "execution_count": 15,
   "id": "5363ca56",
   "metadata": {},
   "outputs": [
    {
     "name": "stdout",
     "output_type": "stream",
     "text": [
      "1: syrine - 24 | enirys street 24\n",
      "2: tatou - 23 | enirys street 23\n",
      "3: enirys - 22 | enirys street 22\n",
      "4: tati - 21 | enirys street 21\n"
     ]
    }
   ],
   "source": [
    "for row in resultat:\n",
    "    print('{0}: {1} - {2} | {3}'.format(row[0], row[1], row[2], row[3]))"
   ]
  },
  {
   "cell_type": "markdown",
   "id": "f23e0be1",
   "metadata": {},
   "source": [
    "### Show results using read_sql_query"
   ]
  },
  {
   "cell_type": "code",
   "execution_count": 18,
   "id": "54070609",
   "metadata": {},
   "outputs": [
    {
     "name": "stdout",
     "output_type": "stream",
     "text": [
      "   id    name  age            adress\n",
      "0   1  syrine   24  enirys street 24\n",
      "1   2   tatou   23  enirys street 23\n",
      "2   3  enirys   22  enirys street 22\n",
      "3   4    tati   21  enirys street 21\n"
     ]
    }
   ],
   "source": [
    "df = pd.read_sql_query(\"SELECT * from S\", con)\n",
    "print(df)"
   ]
  }
 ],
 "metadata": {
  "kernelspec": {
   "display_name": "Python 3 (ipykernel)",
   "language": "python",
   "name": "python3"
  },
  "language_info": {
   "codemirror_mode": {
    "name": "ipython",
    "version": 3
   },
   "file_extension": ".py",
   "mimetype": "text/x-python",
   "name": "python",
   "nbconvert_exporter": "python",
   "pygments_lexer": "ipython3",
   "version": "3.9.12"
  }
 },
 "nbformat": 4,
 "nbformat_minor": 5
}
