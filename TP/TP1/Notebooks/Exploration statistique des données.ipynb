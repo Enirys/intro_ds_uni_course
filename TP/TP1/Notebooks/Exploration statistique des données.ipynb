{
 "cells": [
  {
   "cell_type": "markdown",
   "id": "d7b7c604",
   "metadata": {},
   "source": [
    "### 1. Lire à partir d'un fichier csv (Exploration_statistique_example.csv)"
   ]
  },
  {
   "cell_type": "code",
   "execution_count": 2,
   "id": "e172924f",
   "metadata": {},
   "outputs": [
    {
     "data": {
      "text/html": [
       "<div>\n",
       "<style scoped>\n",
       "    .dataframe tbody tr th:only-of-type {\n",
       "        vertical-align: middle;\n",
       "    }\n",
       "\n",
       "    .dataframe tbody tr th {\n",
       "        vertical-align: top;\n",
       "    }\n",
       "\n",
       "    .dataframe thead th {\n",
       "        text-align: right;\n",
       "    }\n",
       "</style>\n",
       "<table border=\"1\" class=\"dataframe\">\n",
       "  <thead>\n",
       "    <tr style=\"text-align: right;\">\n",
       "      <th></th>\n",
       "      <th>ip</th>\n",
       "      <th>username</th>\n",
       "      <th>date</th>\n",
       "      <th>time</th>\n",
       "      <th>request</th>\n",
       "    </tr>\n",
       "  </thead>\n",
       "  <tbody>\n",
       "    <tr>\n",
       "      <th>0</th>\n",
       "      <td>146.204.224.152</td>\n",
       "      <td>feest6811</td>\n",
       "      <td>21/Jun/2019</td>\n",
       "      <td>15:45:24 -0700</td>\n",
       "      <td>POST /incentivize HTTP/1.1</td>\n",
       "    </tr>\n",
       "    <tr>\n",
       "      <th>1</th>\n",
       "      <td>197.109.77.178</td>\n",
       "      <td>kertzmann3129</td>\n",
       "      <td>21/Jun/2019</td>\n",
       "      <td>15:45:25 -0700</td>\n",
       "      <td>DELETE /virtual/solutions/target/web+services ...</td>\n",
       "    </tr>\n",
       "    <tr>\n",
       "      <th>2</th>\n",
       "      <td>156.127.178.177</td>\n",
       "      <td>okuneva5222</td>\n",
       "      <td>21/Jun/2019</td>\n",
       "      <td>15:45:27 -0700</td>\n",
       "      <td>DELETE /interactive/transparent/niches/revolut...</td>\n",
       "    </tr>\n",
       "    <tr>\n",
       "      <th>3</th>\n",
       "      <td>100.32.205.59</td>\n",
       "      <td>ortiz8891</td>\n",
       "      <td>21/Jun/2019</td>\n",
       "      <td>15:45:28 -0700</td>\n",
       "      <td>PATCH /architectures HTTP/1.0</td>\n",
       "    </tr>\n",
       "    <tr>\n",
       "      <th>4</th>\n",
       "      <td>168.95.156.240</td>\n",
       "      <td>stark2413</td>\n",
       "      <td>21/Jun/2019</td>\n",
       "      <td>15:45:31 -0700</td>\n",
       "      <td>GET /engage HTTP/2.0</td>\n",
       "    </tr>\n",
       "    <tr>\n",
       "      <th>...</th>\n",
       "      <td>...</td>\n",
       "      <td>...</td>\n",
       "      <td>...</td>\n",
       "      <td>...</td>\n",
       "      <td>...</td>\n",
       "    </tr>\n",
       "    <tr>\n",
       "      <th>974</th>\n",
       "      <td>135.186.69.192</td>\n",
       "      <td>***</td>\n",
       "      <td>21/Jun/2019</td>\n",
       "      <td>16:01:58 -0700</td>\n",
       "      <td>PATCH /best-of-breed HTTP/1.1</td>\n",
       "    </tr>\n",
       "    <tr>\n",
       "      <th>975</th>\n",
       "      <td>32.86.3.51</td>\n",
       "      <td>***</td>\n",
       "      <td>21/Jun/2019</td>\n",
       "      <td>16:01:59 -0700</td>\n",
       "      <td>GET /optimize/impactful/sexy/channels HTTP/2.0</td>\n",
       "    </tr>\n",
       "    <tr>\n",
       "      <th>976</th>\n",
       "      <td>176.68.62.252</td>\n",
       "      <td>turner3261</td>\n",
       "      <td>21/Jun/2019</td>\n",
       "      <td>16:02:00 -0700</td>\n",
       "      <td>GET /viral HTTP/1.1</td>\n",
       "    </tr>\n",
       "    <tr>\n",
       "      <th>977</th>\n",
       "      <td>35.86.149.61</td>\n",
       "      <td>zemlak6334</td>\n",
       "      <td>21/Jun/2019</td>\n",
       "      <td>16:02:01 -0700</td>\n",
       "      <td>HEAD /incentivize HTTP/2.0</td>\n",
       "    </tr>\n",
       "    <tr>\n",
       "      <th>978</th>\n",
       "      <td>30.95.91.251</td>\n",
       "      <td>larson8319</td>\n",
       "      <td>21/Jun/2019</td>\n",
       "      <td>16:02:02 -0700</td>\n",
       "      <td>PUT /one-to-one/whiteboard HTTP/1.0</td>\n",
       "    </tr>\n",
       "  </tbody>\n",
       "</table>\n",
       "<p>979 rows × 5 columns</p>\n",
       "</div>"
      ],
      "text/plain": [
       "                  ip       username         date            time  \\\n",
       "0    146.204.224.152      feest6811  21/Jun/2019  15:45:24 -0700   \n",
       "1     197.109.77.178  kertzmann3129  21/Jun/2019  15:45:25 -0700   \n",
       "2    156.127.178.177    okuneva5222  21/Jun/2019  15:45:27 -0700   \n",
       "3      100.32.205.59      ortiz8891  21/Jun/2019  15:45:28 -0700   \n",
       "4     168.95.156.240      stark2413  21/Jun/2019  15:45:31 -0700   \n",
       "..               ...            ...          ...             ...   \n",
       "974   135.186.69.192            ***  21/Jun/2019  16:01:58 -0700   \n",
       "975       32.86.3.51            ***  21/Jun/2019  16:01:59 -0700   \n",
       "976    176.68.62.252     turner3261  21/Jun/2019  16:02:00 -0700   \n",
       "977     35.86.149.61     zemlak6334  21/Jun/2019  16:02:01 -0700   \n",
       "978     30.95.91.251     larson8319  21/Jun/2019  16:02:02 -0700   \n",
       "\n",
       "                                               request  \n",
       "0                           POST /incentivize HTTP/1.1  \n",
       "1    DELETE /virtual/solutions/target/web+services ...  \n",
       "2    DELETE /interactive/transparent/niches/revolut...  \n",
       "3                        PATCH /architectures HTTP/1.0  \n",
       "4                                 GET /engage HTTP/2.0  \n",
       "..                                                 ...  \n",
       "974                      PATCH /best-of-breed HTTP/1.1  \n",
       "975     GET /optimize/impactful/sexy/channels HTTP/2.0  \n",
       "976                                GET /viral HTTP/1.1  \n",
       "977                         HEAD /incentivize HTTP/2.0  \n",
       "978                PUT /one-to-one/whiteboard HTTP/1.0  \n",
       "\n",
       "[979 rows x 5 columns]"
      ]
     },
     "execution_count": 2,
     "metadata": {},
     "output_type": "execute_result"
    }
   ],
   "source": [
    "import pandas as pd\n",
    "\n",
    "file_path = \"../Data/Exploration_statistique_example.csv\"\n",
    "df_stat_csv = pd.read_csv(file_path, sep = ';')\n",
    "df_stat_csv"
   ]
  },
  {
   "cell_type": "markdown",
   "id": "c15bfd70",
   "metadata": {},
   "source": [
    "### 2. Afficher"
   ]
  },
  {
   "cell_type": "markdown",
   "id": "cc8f8d63",
   "metadata": {},
   "source": [
    "#### La taille du tableau"
   ]
  },
  {
   "cell_type": "code",
   "execution_count": 4,
   "id": "606ba074",
   "metadata": {},
   "outputs": [
    {
     "data": {
      "text/plain": [
       "(979, 5)"
      ]
     },
     "execution_count": 4,
     "metadata": {},
     "output_type": "execute_result"
    }
   ],
   "source": [
    "df_stat_csv.shape\n",
    "#df_stat_csv.size\n",
    "#df_stat_csv.ndim"
   ]
  },
  {
   "cell_type": "markdown",
   "id": "695cca77",
   "metadata": {},
   "source": [
    "#### Le titre des colonnes"
   ]
  },
  {
   "cell_type": "code",
   "execution_count": 8,
   "id": "2bf04caa",
   "metadata": {},
   "outputs": [
    {
     "data": {
      "text/plain": [
       "Index(['ip', 'username', 'date', 'time', 'request'], dtype='object')"
      ]
     },
     "execution_count": 8,
     "metadata": {},
     "output_type": "execute_result"
    }
   ],
   "source": [
    "df_stat_csv.columns"
   ]
  },
  {
   "cell_type": "markdown",
   "id": "b94cf0cb",
   "metadata": {},
   "source": [
    "#### Le nombre de lignes"
   ]
  },
  {
   "cell_type": "code",
   "execution_count": 9,
   "id": "ecd1a66c",
   "metadata": {},
   "outputs": [
    {
     "data": {
      "text/plain": [
       "979"
      ]
     },
     "execution_count": 9,
     "metadata": {},
     "output_type": "execute_result"
    }
   ],
   "source": [
    "df_stat_csv.shape[0]"
   ]
  },
  {
   "cell_type": "markdown",
   "id": "435e9625",
   "metadata": {},
   "source": [
    "#### Des informations générales"
   ]
  },
  {
   "cell_type": "code",
   "execution_count": null,
   "id": "36028ef8",
   "metadata": {},
   "outputs": [],
   "source": []
  },
  {
   "cell_type": "markdown",
   "id": "ae0130a5",
   "metadata": {},
   "source": [
    "#### Un résumé des statistiques principales"
   ]
  },
  {
   "cell_type": "code",
   "execution_count": null,
   "id": "ecdf7731",
   "metadata": {},
   "outputs": [],
   "source": []
  },
  {
   "cell_type": "markdown",
   "id": "b786419b",
   "metadata": {},
   "source": [
    "#### Les 10 premières lignes du dataframe"
   ]
  },
  {
   "cell_type": "code",
   "execution_count": 10,
   "id": "09a55935",
   "metadata": {},
   "outputs": [
    {
     "data": {
      "text/html": [
       "<div>\n",
       "<style scoped>\n",
       "    .dataframe tbody tr th:only-of-type {\n",
       "        vertical-align: middle;\n",
       "    }\n",
       "\n",
       "    .dataframe tbody tr th {\n",
       "        vertical-align: top;\n",
       "    }\n",
       "\n",
       "    .dataframe thead th {\n",
       "        text-align: right;\n",
       "    }\n",
       "</style>\n",
       "<table border=\"1\" class=\"dataframe\">\n",
       "  <thead>\n",
       "    <tr style=\"text-align: right;\">\n",
       "      <th></th>\n",
       "      <th>ip</th>\n",
       "      <th>username</th>\n",
       "      <th>date</th>\n",
       "      <th>time</th>\n",
       "      <th>request</th>\n",
       "    </tr>\n",
       "  </thead>\n",
       "  <tbody>\n",
       "    <tr>\n",
       "      <th>0</th>\n",
       "      <td>146.204.224.152</td>\n",
       "      <td>feest6811</td>\n",
       "      <td>21/Jun/2019</td>\n",
       "      <td>15:45:24 -0700</td>\n",
       "      <td>POST /incentivize HTTP/1.1</td>\n",
       "    </tr>\n",
       "    <tr>\n",
       "      <th>1</th>\n",
       "      <td>197.109.77.178</td>\n",
       "      <td>kertzmann3129</td>\n",
       "      <td>21/Jun/2019</td>\n",
       "      <td>15:45:25 -0700</td>\n",
       "      <td>DELETE /virtual/solutions/target/web+services ...</td>\n",
       "    </tr>\n",
       "    <tr>\n",
       "      <th>2</th>\n",
       "      <td>156.127.178.177</td>\n",
       "      <td>okuneva5222</td>\n",
       "      <td>21/Jun/2019</td>\n",
       "      <td>15:45:27 -0700</td>\n",
       "      <td>DELETE /interactive/transparent/niches/revolut...</td>\n",
       "    </tr>\n",
       "    <tr>\n",
       "      <th>3</th>\n",
       "      <td>100.32.205.59</td>\n",
       "      <td>ortiz8891</td>\n",
       "      <td>21/Jun/2019</td>\n",
       "      <td>15:45:28 -0700</td>\n",
       "      <td>PATCH /architectures HTTP/1.0</td>\n",
       "    </tr>\n",
       "    <tr>\n",
       "      <th>4</th>\n",
       "      <td>168.95.156.240</td>\n",
       "      <td>stark2413</td>\n",
       "      <td>21/Jun/2019</td>\n",
       "      <td>15:45:31 -0700</td>\n",
       "      <td>GET /engage HTTP/2.0</td>\n",
       "    </tr>\n",
       "    <tr>\n",
       "      <th>5</th>\n",
       "      <td>71.172.239.195</td>\n",
       "      <td>dooley1853</td>\n",
       "      <td>21/Jun/2019</td>\n",
       "      <td>15:45:32 -0700</td>\n",
       "      <td>PUT /cutting-edge HTTP/2.0</td>\n",
       "    </tr>\n",
       "    <tr>\n",
       "      <th>6</th>\n",
       "      <td>180.95.121.94</td>\n",
       "      <td>mohr6893</td>\n",
       "      <td>21/Jun/2019</td>\n",
       "      <td>15:45:34 -0700</td>\n",
       "      <td>PATCH /extensible/reinvent HTTP/1.1</td>\n",
       "    </tr>\n",
       "    <tr>\n",
       "      <th>7</th>\n",
       "      <td>144.23.247.108</td>\n",
       "      <td>auer7552</td>\n",
       "      <td>21/Jun/2019</td>\n",
       "      <td>15:45:35 -0700</td>\n",
       "      <td>POST /extensible/infrastructures/one-to-one/en...</td>\n",
       "    </tr>\n",
       "    <tr>\n",
       "      <th>8</th>\n",
       "      <td>2.179.103.97</td>\n",
       "      <td>lind8584</td>\n",
       "      <td>21/Jun/2019</td>\n",
       "      <td>15:45:36 -0700</td>\n",
       "      <td>POST /grow/front-end/e-commerce/robust HTTP/2.0</td>\n",
       "    </tr>\n",
       "    <tr>\n",
       "      <th>9</th>\n",
       "      <td>241.114.184.133</td>\n",
       "      <td>tromp8355</td>\n",
       "      <td>21/Jun/2019</td>\n",
       "      <td>15:45:37 -0700</td>\n",
       "      <td>GET /redefine/orchestrate HTTP/1.0</td>\n",
       "    </tr>\n",
       "  </tbody>\n",
       "</table>\n",
       "</div>"
      ],
      "text/plain": [
       "                ip       username         date            time  \\\n",
       "0  146.204.224.152      feest6811  21/Jun/2019  15:45:24 -0700   \n",
       "1   197.109.77.178  kertzmann3129  21/Jun/2019  15:45:25 -0700   \n",
       "2  156.127.178.177    okuneva5222  21/Jun/2019  15:45:27 -0700   \n",
       "3    100.32.205.59      ortiz8891  21/Jun/2019  15:45:28 -0700   \n",
       "4   168.95.156.240      stark2413  21/Jun/2019  15:45:31 -0700   \n",
       "5   71.172.239.195     dooley1853  21/Jun/2019  15:45:32 -0700   \n",
       "6    180.95.121.94       mohr6893  21/Jun/2019  15:45:34 -0700   \n",
       "7   144.23.247.108       auer7552  21/Jun/2019  15:45:35 -0700   \n",
       "8     2.179.103.97       lind8584  21/Jun/2019  15:45:36 -0700   \n",
       "9  241.114.184.133      tromp8355  21/Jun/2019  15:45:37 -0700   \n",
       "\n",
       "                                             request  \n",
       "0                         POST /incentivize HTTP/1.1  \n",
       "1  DELETE /virtual/solutions/target/web+services ...  \n",
       "2  DELETE /interactive/transparent/niches/revolut...  \n",
       "3                      PATCH /architectures HTTP/1.0  \n",
       "4                               GET /engage HTTP/2.0  \n",
       "5                         PUT /cutting-edge HTTP/2.0  \n",
       "6                PATCH /extensible/reinvent HTTP/1.1  \n",
       "7  POST /extensible/infrastructures/one-to-one/en...  \n",
       "8    POST /grow/front-end/e-commerce/robust HTTP/2.0  \n",
       "9                 GET /redefine/orchestrate HTTP/1.0  "
      ]
     },
     "execution_count": 10,
     "metadata": {},
     "output_type": "execute_result"
    }
   ],
   "source": [
    "df_stat_csv.head(10)"
   ]
  },
  {
   "cell_type": "markdown",
   "id": "b2c8411d",
   "metadata": {},
   "source": [
    "#### Les 10 dernières lignes du dataframe"
   ]
  },
  {
   "cell_type": "code",
   "execution_count": 11,
   "id": "824ed27b",
   "metadata": {},
   "outputs": [
    {
     "data": {
      "text/html": [
       "<div>\n",
       "<style scoped>\n",
       "    .dataframe tbody tr th:only-of-type {\n",
       "        vertical-align: middle;\n",
       "    }\n",
       "\n",
       "    .dataframe tbody tr th {\n",
       "        vertical-align: top;\n",
       "    }\n",
       "\n",
       "    .dataframe thead th {\n",
       "        text-align: right;\n",
       "    }\n",
       "</style>\n",
       "<table border=\"1\" class=\"dataframe\">\n",
       "  <thead>\n",
       "    <tr style=\"text-align: right;\">\n",
       "      <th></th>\n",
       "      <th>ip</th>\n",
       "      <th>username</th>\n",
       "      <th>date</th>\n",
       "      <th>time</th>\n",
       "      <th>request</th>\n",
       "    </tr>\n",
       "  </thead>\n",
       "  <tbody>\n",
       "    <tr>\n",
       "      <th>969</th>\n",
       "      <td>98.140.180.244</td>\n",
       "      <td>harber4797</td>\n",
       "      <td>21/Jun/2019</td>\n",
       "      <td>16:01:53 -0700</td>\n",
       "      <td>POST /seize/b2b/synergistic HTTP/2.0</td>\n",
       "    </tr>\n",
       "    <tr>\n",
       "      <th>970</th>\n",
       "      <td>54.92.231.149</td>\n",
       "      <td>ziemann5634</td>\n",
       "      <td>21/Jun/2019</td>\n",
       "      <td>16:01:54 -0700</td>\n",
       "      <td>GET /revolutionize/matrix HTTP/2.0</td>\n",
       "    </tr>\n",
       "    <tr>\n",
       "      <th>971</th>\n",
       "      <td>96.250.132.151</td>\n",
       "      <td>***</td>\n",
       "      <td>21/Jun/2019</td>\n",
       "      <td>16:01:55 -0700</td>\n",
       "      <td>HEAD /users/revolutionize HTTP/1.1</td>\n",
       "    </tr>\n",
       "    <tr>\n",
       "      <th>972</th>\n",
       "      <td>29.193.55.212</td>\n",
       "      <td>***</td>\n",
       "      <td>21/Jun/2019</td>\n",
       "      <td>16:01:56 -0700</td>\n",
       "      <td>DELETE /strategic/e-tailers/scalable HTTP/1.0</td>\n",
       "    </tr>\n",
       "    <tr>\n",
       "      <th>973</th>\n",
       "      <td>255.61.55.129</td>\n",
       "      <td>***</td>\n",
       "      <td>21/Jun/2019</td>\n",
       "      <td>16:01:57 -0700</td>\n",
       "      <td>DELETE /applications/infomediaries/reinvent/cu...</td>\n",
       "    </tr>\n",
       "    <tr>\n",
       "      <th>974</th>\n",
       "      <td>135.186.69.192</td>\n",
       "      <td>***</td>\n",
       "      <td>21/Jun/2019</td>\n",
       "      <td>16:01:58 -0700</td>\n",
       "      <td>PATCH /best-of-breed HTTP/1.1</td>\n",
       "    </tr>\n",
       "    <tr>\n",
       "      <th>975</th>\n",
       "      <td>32.86.3.51</td>\n",
       "      <td>***</td>\n",
       "      <td>21/Jun/2019</td>\n",
       "      <td>16:01:59 -0700</td>\n",
       "      <td>GET /optimize/impactful/sexy/channels HTTP/2.0</td>\n",
       "    </tr>\n",
       "    <tr>\n",
       "      <th>976</th>\n",
       "      <td>176.68.62.252</td>\n",
       "      <td>turner3261</td>\n",
       "      <td>21/Jun/2019</td>\n",
       "      <td>16:02:00 -0700</td>\n",
       "      <td>GET /viral HTTP/1.1</td>\n",
       "    </tr>\n",
       "    <tr>\n",
       "      <th>977</th>\n",
       "      <td>35.86.149.61</td>\n",
       "      <td>zemlak6334</td>\n",
       "      <td>21/Jun/2019</td>\n",
       "      <td>16:02:01 -0700</td>\n",
       "      <td>HEAD /incentivize HTTP/2.0</td>\n",
       "    </tr>\n",
       "    <tr>\n",
       "      <th>978</th>\n",
       "      <td>30.95.91.251</td>\n",
       "      <td>larson8319</td>\n",
       "      <td>21/Jun/2019</td>\n",
       "      <td>16:02:02 -0700</td>\n",
       "      <td>PUT /one-to-one/whiteboard HTTP/1.0</td>\n",
       "    </tr>\n",
       "  </tbody>\n",
       "</table>\n",
       "</div>"
      ],
      "text/plain": [
       "                 ip     username         date            time  \\\n",
       "969  98.140.180.244   harber4797  21/Jun/2019  16:01:53 -0700   \n",
       "970   54.92.231.149  ziemann5634  21/Jun/2019  16:01:54 -0700   \n",
       "971  96.250.132.151          ***  21/Jun/2019  16:01:55 -0700   \n",
       "972   29.193.55.212          ***  21/Jun/2019  16:01:56 -0700   \n",
       "973   255.61.55.129          ***  21/Jun/2019  16:01:57 -0700   \n",
       "974  135.186.69.192          ***  21/Jun/2019  16:01:58 -0700   \n",
       "975      32.86.3.51          ***  21/Jun/2019  16:01:59 -0700   \n",
       "976   176.68.62.252   turner3261  21/Jun/2019  16:02:00 -0700   \n",
       "977    35.86.149.61   zemlak6334  21/Jun/2019  16:02:01 -0700   \n",
       "978    30.95.91.251   larson8319  21/Jun/2019  16:02:02 -0700   \n",
       "\n",
       "                                               request  \n",
       "969               POST /seize/b2b/synergistic HTTP/2.0  \n",
       "970                 GET /revolutionize/matrix HTTP/2.0  \n",
       "971                 HEAD /users/revolutionize HTTP/1.1  \n",
       "972      DELETE /strategic/e-tailers/scalable HTTP/1.0  \n",
       "973  DELETE /applications/infomediaries/reinvent/cu...  \n",
       "974                      PATCH /best-of-breed HTTP/1.1  \n",
       "975     GET /optimize/impactful/sexy/channels HTTP/2.0  \n",
       "976                                GET /viral HTTP/1.1  \n",
       "977                         HEAD /incentivize HTTP/2.0  \n",
       "978                PUT /one-to-one/whiteboard HTTP/1.0  "
      ]
     },
     "execution_count": 11,
     "metadata": {},
     "output_type": "execute_result"
    }
   ],
   "source": [
    "df_stat_csv.tail(10)"
   ]
  },
  {
   "cell_type": "code",
   "execution_count": null,
   "id": "3cb4ec01",
   "metadata": {},
   "outputs": [],
   "source": []
  }
 ],
 "metadata": {
  "kernelspec": {
   "display_name": "Python 3 (ipykernel)",
   "language": "python",
   "name": "python3"
  },
  "language_info": {
   "codemirror_mode": {
    "name": "ipython",
    "version": 3
   },
   "file_extension": ".py",
   "mimetype": "text/x-python",
   "name": "python",
   "nbconvert_exporter": "python",
   "pygments_lexer": "ipython3",
   "version": "3.9.12"
  }
 },
 "nbformat": 4,
 "nbformat_minor": 5
}
